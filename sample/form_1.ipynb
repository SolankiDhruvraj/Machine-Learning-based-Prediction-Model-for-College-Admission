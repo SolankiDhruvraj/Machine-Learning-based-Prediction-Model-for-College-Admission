{
 "cells": [
  {
   "cell_type": "code",
   "execution_count": null,
   "id": "433c5c5e",
   "metadata": {},
   "outputs": [
    {
     "name": "stdout",
     "output_type": "stream",
     "text": [
      " * Serving Flask app \"__main__\" (lazy loading)\n",
      " * Environment: production\n",
      "\u001b[31m   WARNING: This is a development server. Do not use it in a production deployment.\u001b[0m\n",
      "\u001b[2m   Use a production WSGI server instead.\u001b[0m\n",
      " * Debug mode: off\n"
     ]
    },
    {
     "name": "stderr",
     "output_type": "stream",
     "text": [
      " * Running on http://127.0.0.1:5000/ (Press CTRL+C to quit)\n",
      "127.0.0.1 - - [15/Dec/2022 01:28:48] \"GET / HTTP/1.1\" 200 -\n",
      "127.0.0.1 - - [15/Dec/2022 01:28:49] \"GET /form HTTP/1.1\" 200 -\n",
      "C:\\Users\\HP\\Desktop\\Mini_Project\\sample\\backend.py:150: SettingWithCopyWarning: \n",
      "A value is trying to be set on a copy of a slice from a DataFrame.\n",
      "Try using .loc[row_indexer,col_indexer] = value instead\n",
      "\n",
      "See the caveats in the documentation: https://pandas.pydata.org/pandas-docs/stable/user_guide/indexing.html#returning-a-view-versus-a-copy\n",
      "  dfcluster['cluster']=cluster1\n",
      "[2022-12-15 01:29:06,254] ERROR in app: Exception on /form [POST]\n",
      "Traceback (most recent call last):\n",
      "  File \"C:\\Users\\HP\\anaconda3\\lib\\site-packages\\flask\\app.py\", line 2447, in wsgi_app\n",
      "    response = self.full_dispatch_request()\n",
      "  File \"C:\\Users\\HP\\anaconda3\\lib\\site-packages\\flask\\app.py\", line 1953, in full_dispatch_request\n",
      "    return self.finalize_request(rv)\n",
      "  File \"C:\\Users\\HP\\anaconda3\\lib\\site-packages\\flask\\app.py\", line 1968, in finalize_request\n",
      "    response = self.make_response(rv)\n",
      "  File \"C:\\Users\\HP\\anaconda3\\lib\\site-packages\\flask\\app.py\", line 2097, in make_response\n",
      "    raise TypeError(\n",
      "TypeError: The view function did not return a valid response. The function either returned None or ended without a return statement.\n",
      "127.0.0.1 - - [15/Dec/2022 01:29:06] \"POST /form HTTP/1.1\" 500 -\n"
     ]
    }
   ],
   "source": [
    "# importing Flask and other modules\n",
    "from flask import Flask, request, render_template\n",
    "from backend import best_college\n",
    "\n",
    " \n",
    "# Flask constructor\n",
    "app = Flask(__name__)  \n",
    " \n",
    "# A decorator used to tell the application\n",
    "# which URL is associated function\n",
    "@app.route('/')\n",
    "def index():\n",
    "    return render_template('index.html')\n",
    "\n",
    "@app.route('/form', methods =[\"GET\", \"POST\"])\n",
    "def form():\n",
    "    if request.method == \"POST\":\n",
    "        user_rank = request.form.get(\"rank\")\n",
    "        user_c = request.form.get(\"category\")\n",
    "        user_round = request.form.get(\"round\")\n",
    "        user_q= request.form.get(\"quota\")\n",
    "        user_p= request.form.get(\"pool\")\n",
    "      \n",
    "        return best_college(user_rank,user_c,user_round,user_q,user_p)\n",
    "    return render_template('form.html')\n",
    "\n",
    "if __name__=='__main__':\n",
    "    app.run()"
   ]
  },
  {
   "cell_type": "code",
   "execution_count": null,
   "id": "57c2c373",
   "metadata": {},
   "outputs": [],
   "source": []
  },
  {
   "cell_type": "code",
   "execution_count": null,
   "id": "906b8f14",
   "metadata": {},
   "outputs": [],
   "source": []
  }
 ],
 "metadata": {
  "kernelspec": {
   "display_name": "Python 3 (ipykernel)",
   "language": "python",
   "name": "python3"
  },
  "language_info": {
   "codemirror_mode": {
    "name": "ipython",
    "version": 3
   },
   "file_extension": ".py",
   "mimetype": "text/x-python",
   "name": "python",
   "nbconvert_exporter": "python",
   "pygments_lexer": "ipython3",
   "version": "3.9.13"
  },
  "vscode": {
   "interpreter": {
    "hash": "88279d2366fe020547cde40dd65aa0e3aa662a6ec1f3ca12d88834876c85e1a6"
   }
  }
 },
 "nbformat": 4,
 "nbformat_minor": 5
}
