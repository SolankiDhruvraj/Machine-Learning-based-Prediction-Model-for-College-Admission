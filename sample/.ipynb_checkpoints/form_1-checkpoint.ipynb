{
 "cells": [
  {
   "cell_type": "code",
   "execution_count": null,
   "id": "433c5c5e",
   "metadata": {},
   "outputs": [
    {
     "name": "stdout",
     "output_type": "stream",
     "text": [
      " * Serving Flask app \"__main__\" (lazy loading)\n",
      " * Environment: production\n",
      "\u001b[31m   WARNING: This is a development server. Do not use it in a production deployment.\u001b[0m\n",
      "\u001b[2m   Use a production WSGI server instead.\u001b[0m\n",
      " * Debug mode: off\n"
     ]
    },
    {
     "name": "stderr",
     "output_type": "stream",
     "text": [
      " * Running on http://127.0.0.1:5000/ (Press CTRL+C to quit)\n",
      "[2022-12-15 01:28:04,386] ERROR in app: Exception on / [GET]\n",
      "Traceback (most recent call last):\n",
      "  File \"C:\\Users\\HP\\anaconda3\\lib\\site-packages\\flask\\app.py\", line 2447, in wsgi_app\n",
      "    response = self.full_dispatch_request()\n",
      "  File \"C:\\Users\\HP\\anaconda3\\lib\\site-packages\\flask\\app.py\", line 1952, in full_dispatch_request\n",
      "    rv = self.handle_user_exception(e)\n",
      "  File \"C:\\Users\\HP\\anaconda3\\lib\\site-packages\\flask\\app.py\", line 1821, in handle_user_exception\n",
      "    reraise(exc_type, exc_value, tb)\n",
      "  File \"C:\\Users\\HP\\anaconda3\\lib\\site-packages\\flask\\_compat.py\", line 39, in reraise\n",
      "    raise value\n",
      "  File \"C:\\Users\\HP\\anaconda3\\lib\\site-packages\\flask\\app.py\", line 1950, in full_dispatch_request\n",
      "    rv = self.dispatch_request()\n",
      "  File \"C:\\Users\\HP\\anaconda3\\lib\\site-packages\\flask\\app.py\", line 1936, in dispatch_request\n",
      "    return self.view_functions[rule.endpoint](**req.view_args)\n",
      "  File \"C:\\Users\\HP\\AppData\\Local\\Temp/ipykernel_40460/2727924852.py\", line 13, in index\n",
      "    return render_template('index.html')\n",
      "  File \"C:\\Users\\HP\\anaconda3\\lib\\site-packages\\flask\\templating.py\", line 137, in render_template\n",
      "    return _render(\n",
      "  File \"C:\\Users\\HP\\anaconda3\\lib\\site-packages\\flask\\templating.py\", line 120, in _render\n",
      "    rv = template.render(context)\n",
      "  File \"C:\\Users\\HP\\anaconda3\\lib\\site-packages\\jinja2\\environment.py\", line 1090, in render\n",
      "    self.environment.handle_exception()\n",
      "  File \"C:\\Users\\HP\\anaconda3\\lib\\site-packages\\jinja2\\environment.py\", line 832, in handle_exception\n",
      "    reraise(*rewrite_traceback_stack(source=source))\n",
      "  File \"C:\\Users\\HP\\anaconda3\\lib\\site-packages\\jinja2\\_compat.py\", line 28, in reraise\n",
      "    raise value.with_traceback(tb)\n",
      "  File \"C:\\Users\\HP\\Desktop\\Mini_Project\\sample\\templates\\index.html\", line 15, in top-level template code\n",
      "    <a href=\"{{ url_for('form') }} \">\n",
      "  File \"C:\\Users\\HP\\anaconda3\\lib\\site-packages\\flask\\helpers.py\", line 370, in url_for\n",
      "    return appctx.app.handle_url_build_error(error, endpoint, values)\n",
      "  File \"C:\\Users\\HP\\anaconda3\\lib\\site-packages\\flask\\app.py\", line 2216, in handle_url_build_error\n",
      "    reraise(exc_type, exc_value, tb)\n",
      "  File \"C:\\Users\\HP\\anaconda3\\lib\\site-packages\\flask\\_compat.py\", line 39, in reraise\n",
      "    raise value\n",
      "  File \"C:\\Users\\HP\\anaconda3\\lib\\site-packages\\flask\\helpers.py\", line 357, in url_for\n",
      "    rv = url_adapter.build(\n",
      "  File \"C:\\Users\\HP\\anaconda3\\lib\\site-packages\\werkzeug\\routing.py\", line 2314, in build\n",
      "    raise BuildError(endpoint, values, method, self)\n",
      "werkzeug.routing.BuildError: Could not build url for endpoint 'form'. Did you mean 'index' instead?\n",
      "127.0.0.1 - - [15/Dec/2022 01:28:04] \"GET / HTTP/1.1\" 500 -\n",
      "127.0.0.1 - - [15/Dec/2022 01:28:19] \"GET / HTTP/1.1\" 200 -\n",
      "127.0.0.1 - - [15/Dec/2022 01:28:21] \"GET /form HTTP/1.1\" 200 -\n"
     ]
    }
   ],
   "source": [
    "# importing Flask and other modules\n",
    "from flask import Flask, request, render_template\n",
    "from backend import best_college\n",
    "\n",
    " \n",
    "# Flask constructor\n",
    "app = Flask(__name__)  \n",
    " \n",
    "# A decorator used to tell the application\n",
    "# which URL is associated function\n",
    "@app.route('/')\n",
    "def index():\n",
    "    return render_template('index.html')\n",
    "\n",
    "@app.route('/form', methods =[\"GET\", \"POST\"])\n",
    "def form():\n",
    "    if request.method == \"POST\":\n",
    "        user_rank = request.form.get(\"rank\")\n",
    "        user_c = request.form.get(\"category\")\n",
    "        user_round = request.form.get(\"round\")\n",
    "        user_q= request.form.get(\"quota\")\n",
    "        user_p= request.form.get(\"pool\")\n",
    "      \n",
    "        return best_college(user_rank,user_c,user_round,user_q,user_p)\n",
    "    return render_template('form.html')\n",
    "\n",
    "@app.route('/temp')\n",
    "def temp():\n",
    "    return render_template('temp.html')\n",
    "\n",
    "if __name__=='__main__':\n",
    "    app.run()"
   ]
  },
  {
   "cell_type": "code",
   "execution_count": null,
   "id": "57c2c373",
   "metadata": {},
   "outputs": [],
   "source": []
  },
  {
   "cell_type": "code",
   "execution_count": null,
   "id": "906b8f14",
   "metadata": {},
   "outputs": [],
   "source": []
  }
 ],
 "metadata": {
  "kernelspec": {
   "display_name": "Python 3 (ipykernel)",
   "language": "python",
   "name": "python3"
  },
  "language_info": {
   "codemirror_mode": {
    "name": "ipython",
    "version": 3
   },
   "file_extension": ".py",
   "mimetype": "text/x-python",
   "name": "python",
   "nbconvert_exporter": "python",
   "pygments_lexer": "ipython3",
   "version": "3.9.7"
  },
  "vscode": {
   "interpreter": {
    "hash": "88279d2366fe020547cde40dd65aa0e3aa662a6ec1f3ca12d88834876c85e1a6"
   }
  }
 },
 "nbformat": 4,
 "nbformat_minor": 5
}
